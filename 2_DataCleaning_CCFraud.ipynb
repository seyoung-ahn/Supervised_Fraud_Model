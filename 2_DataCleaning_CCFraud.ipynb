{
 "cells": [
  {
   "cell_type": "code",
   "execution_count": 2,
   "id": "organic-player",
   "metadata": {},
   "outputs": [
    {
     "name": "stderr",
     "output_type": "stream",
     "text": [
      "<ipython-input-2-3a65075d0fc1>:10: FutureWarning: The pandas.datetime class is deprecated and will be removed from pandas in a future version. Import from datetime module instead.\n",
      "  start_time = pd.datetime.now()\n"
     ]
    }
   ],
   "source": [
    "import pandas as pd\n",
    "import numpy as np\n",
    "np.set_printoptions(suppress=True)\n",
    "import scipy.stats as sps\n",
    "import matplotlib.pyplot as plt\n",
    "import seaborn as sns\n",
    "import datetime as dt\n",
    "from math import log10\n",
    "%matplotlib inline\n",
    "start_time = pd.datetime.now()\n",
    "import copy\n",
    "import datetime\n",
    "import scipy.stats as stats\n",
    "import timeit"
   ]
  },
  {
   "cell_type": "code",
   "execution_count": 3,
   "id": "catholic-bicycle",
   "metadata": {},
   "outputs": [],
   "source": [
    "df = pd.read_csv('card transactions.csv') \n",
    "df = df.iloc[:, 0:10]"
   ]
  },
  {
   "cell_type": "markdown",
   "id": "alive-professor",
   "metadata": {},
   "source": [
    "# extractions"
   ]
  },
  {
   "cell_type": "code",
   "execution_count": 4,
   "id": "impressed-welcome",
   "metadata": {},
   "outputs": [
    {
     "data": {
      "text/plain": [
       "52714    3102045.53\n",
       "47339      47900.00\n",
       "59516      30372.46\n",
       "80886      28392.84\n",
       "89673      27218.00\n",
       "            ...    \n",
       "47165          0.08\n",
       "57855          0.02\n",
       "78387          0.01\n",
       "91179          0.01\n",
       "56124          0.01\n",
       "Name: Amount, Length: 96753, dtype: float64"
      ]
     },
     "execution_count": 4,
     "metadata": {},
     "output_type": "execute_result"
    },
    {
     "data": {
      "image/png": "[encoded data removed]",
      "text/plain": [
       "<Figure size 432x288 with 1 Axes>"
      ]
     },
     "metadata": {
      "needs_background": "light"
     },
     "output_type": "display_data"
    }
   ],
   "source": [
    "#1. Remove Single large transaction outlier\n",
    "np.log10(df['Amount']).hist(bins=20)\n",
    "plt.yscale('log')\n",
    "\n",
    "df['Amount'].sort_values(ascending = False)"
   ]
  },
  {
   "cell_type": "code",
   "execution_count": 5,
   "id": "compact-methodology",
   "metadata": {},
   "outputs": [],
   "source": [
    "df=df[df['Amount']!=3102045.53]"
   ]
  },
  {
   "cell_type": "code",
   "execution_count": 6,
   "id": "revised-franchise",
   "metadata": {},
   "outputs": [],
   "source": [
    "# Remove all but the “P” type transactions\n",
    "df=df[df['Transtype']=='P']"
   ]
  },
  {
   "cell_type": "code",
   "execution_count": 7,
   "id": "unlikely-beach",
   "metadata": {},
   "outputs": [
    {
     "data": {
      "text/html": [
       "<div>\n",
       "<style scoped>\n",
       "    .dataframe tbody tr th:only-of-type {\n",
       "        vertical-align: middle;\n",
       "    }\n",
       "\n",
       "    .dataframe tbody tr th {\n",
       "        vertical-align: top;\n",
       "    }\n",
       "\n",
       "    .dataframe thead th {\n",
       "        text-align: right;\n",
       "    }\n",
       "</style>\n",
       "<table border=\"1\" class=\"dataframe\">\n",
       "  <thead>\n",
       "    <tr style=\"text-align: right;\">\n",
       "      <th></th>\n",
       "      <th>Recnum</th>\n",
       "      <th>Cardnum</th>\n",
       "      <th>Merch zip</th>\n",
       "      <th>Amount</th>\n",
       "      <th>Fraud</th>\n",
       "    </tr>\n",
       "  </thead>\n",
       "  <tbody>\n",
       "    <tr>\n",
       "      <th>count</th>\n",
       "      <td>96397.000000</td>\n",
       "      <td>9.639700e+04</td>\n",
       "      <td>92097.000000</td>\n",
       "      <td>96397.000000</td>\n",
       "      <td>96397.000000</td>\n",
       "    </tr>\n",
       "    <tr>\n",
       "      <th>mean</th>\n",
       "      <td>48365.481820</td>\n",
       "      <td>5.142202e+09</td>\n",
       "      <td>44706.596740</td>\n",
       "      <td>395.858494</td>\n",
       "      <td>0.010986</td>\n",
       "    </tr>\n",
       "    <tr>\n",
       "      <th>std</th>\n",
       "      <td>27945.003883</td>\n",
       "      <td>5.565825e+04</td>\n",
       "      <td>28369.537945</td>\n",
       "      <td>832.330197</td>\n",
       "      <td>0.104236</td>\n",
       "    </tr>\n",
       "    <tr>\n",
       "      <th>min</th>\n",
       "      <td>1.000000</td>\n",
       "      <td>5.142110e+09</td>\n",
       "      <td>1.000000</td>\n",
       "      <td>0.010000</td>\n",
       "      <td>0.000000</td>\n",
       "    </tr>\n",
       "    <tr>\n",
       "      <th>25%</th>\n",
       "      <td>24154.000000</td>\n",
       "      <td>5.142152e+09</td>\n",
       "      <td>20855.000000</td>\n",
       "      <td>33.460000</td>\n",
       "      <td>0.000000</td>\n",
       "    </tr>\n",
       "    <tr>\n",
       "      <th>50%</th>\n",
       "      <td>48365.000000</td>\n",
       "      <td>5.142196e+09</td>\n",
       "      <td>38118.000000</td>\n",
       "      <td>137.980000</td>\n",
       "      <td>0.000000</td>\n",
       "    </tr>\n",
       "    <tr>\n",
       "      <th>75%</th>\n",
       "      <td>72578.000000</td>\n",
       "      <td>5.142245e+09</td>\n",
       "      <td>63103.000000</td>\n",
       "      <td>428.250000</td>\n",
       "      <td>0.000000</td>\n",
       "    </tr>\n",
       "    <tr>\n",
       "      <th>max</th>\n",
       "      <td>96753.000000</td>\n",
       "      <td>5.142847e+09</td>\n",
       "      <td>99999.000000</td>\n",
       "      <td>47900.000000</td>\n",
       "      <td>1.000000</td>\n",
       "    </tr>\n",
       "  </tbody>\n",
       "</table>\n",
       "</div>"
      ],
      "text/plain": [
       "             Recnum       Cardnum     Merch zip        Amount         Fraud\n",
       "count  96397.000000  9.639700e+04  92097.000000  96397.000000  96397.000000\n",
       "mean   48365.481820  5.142202e+09  44706.596740    395.858494      0.010986\n",
       "std    27945.003883  5.565825e+04  28369.537945    832.330197      0.104236\n",
       "min        1.000000  5.142110e+09      1.000000      0.010000      0.000000\n",
       "25%    24154.000000  5.142152e+09  20855.000000     33.460000      0.000000\n",
       "50%    48365.000000  5.142196e+09  38118.000000    137.980000      0.000000\n",
       "75%    72578.000000  5.142245e+09  63103.000000    428.250000      0.000000\n",
       "max    96753.000000  5.142847e+09  99999.000000  47900.000000      1.000000"
      ]
     },
     "execution_count": 7,
     "metadata": {},
     "output_type": "execute_result"
    }
   ],
   "source": [
    "df.describe()"
   ]
  },
  {
   "cell_type": "code",
   "execution_count": 8,
   "id": "lonely-picking",
   "metadata": {},
   "outputs": [
    {
     "data": {
      "text/plain": [
       "30370    PENNE9 CO #68\n",
       "6534     PENNE9 CO #05\n",
       "44789      JCPENNE9 CO\n",
       "53557      JCPENNE9 CO\n",
       "38452      JCPENNE9 CO\n",
       "             ...      \n",
       "96621              NaN\n",
       "96651              NaN\n",
       "96689              NaN\n",
       "96720              NaN\n",
       "96730              NaN\n",
       "Name: Merchnum, Length: 96397, dtype: object"
      ]
     },
     "execution_count": 8,
     "metadata": {},
     "output_type": "execute_result"
    }
   ],
   "source": [
    "df['Merchnum'].sort_values(ascending=False)"
   ]
  },
  {
   "cell_type": "code",
   "execution_count": 9,
   "id": "waiting-style",
   "metadata": {},
   "outputs": [],
   "source": [
    "df['Merchnum']=df['Merchnum'].replace('0',np.nan)"
   ]
  },
  {
   "cell_type": "code",
   "execution_count": 10,
   "id": "functional-estate",
   "metadata": {},
   "outputs": [
    {
     "name": "stdout",
     "output_type": "stream",
     "text": [
      "Recnum                  0\n",
      "Cardnum                 0\n",
      "Date                    0\n",
      "Merchnum             3251\n",
      "Merch description       0\n",
      "Merch state          1020\n",
      "Merch zip            4300\n",
      "Transtype               0\n",
      "Amount                  0\n",
      "Fraud                   0\n",
      "dtype: int64\n"
     ]
    }
   ],
   "source": [
    "print(df.isna().sum())"
   ]
  },
  {
   "cell_type": "code",
   "execution_count": 11,
   "id": "attempted-warrior",
   "metadata": {},
   "outputs": [],
   "source": [
    "df = df.reset_index()"
   ]
  },
  {
   "cell_type": "markdown",
   "id": "mineral-subject",
   "metadata": {},
   "source": [
    "# Fill Missing Values"
   ]
  },
  {
   "cell_type": "code",
   "execution_count": 12,
   "id": "indie-fusion",
   "metadata": {},
   "outputs": [],
   "source": [
    "df_filled = df.copy()"
   ]
  },
  {
   "cell_type": "code",
   "execution_count": 13,
   "id": "sharp-slope",
   "metadata": {},
   "outputs": [
    {
     "data": {
      "text/plain": [
       "1020"
      ]
     },
     "execution_count": 13,
     "metadata": {},
     "output_type": "execute_result"
    }
   ],
   "source": [
    "missing_state = np.where(pd.isnull(df_filled['Merch state']))[0]\n",
    "len(missing_state)"
   ]
  },
  {
   "cell_type": "code",
   "execution_count": 14,
   "id": "successful-hypothetical",
   "metadata": {},
   "outputs": [
    {
     "name": "stdout",
     "output_type": "stream",
     "text": [
      "Merch zip\n",
      "1.0        PA\n",
      "2.0        VA\n",
      "3.0        GA\n",
      "5.0        IA\n",
      "6.0        IL\n",
      "           ..\n",
      "99755.0    AK\n",
      "99801.0    AK\n",
      "99835.0    AK\n",
      "99901.0    AK\n",
      "99999.0    CA\n",
      "Name: Merch state, Length: 4538, dtype: object\n"
     ]
    }
   ],
   "source": [
    "# If the record has a zip, use the state for that zip, if known\n",
    "import statistics\n",
    "temp = df_filled[pd.isnull(df_filled['Merch state'])==False]\n",
    "mode_zip = temp.groupby('Merch zip')['Merch state'].apply(statistics.mode)\n",
    "print(mode_zip)"
   ]
  },
  {
   "cell_type": "code",
   "execution_count": 15,
   "id": "genetic-moderator",
   "metadata": {},
   "outputs": [],
   "source": [
    "for index in mode_zip.index:\n",
    "    df_filled.loc[(pd.isnull(df_filled['Merch state'])==True)&(df_filled['Merch zip']==index), 'Merch state']= mode_zip[index]"
   ]
  },
  {
   "cell_type": "code",
   "execution_count": 16,
   "id": "devoted-south",
   "metadata": {},
   "outputs": [
    {
     "data": {
      "text/plain": [
       "1000"
      ]
     },
     "execution_count": 16,
     "metadata": {},
     "output_type": "execute_result"
    }
   ],
   "source": [
    "missing_state = np.where(pd.isnull(df_filled['Merch state']))[0]\n",
    "len(missing_state)"
   ]
  },
  {
   "cell_type": "code",
   "execution_count": 17,
   "id": "activated-provincial",
   "metadata": {},
   "outputs": [],
   "source": [
    "# If in range 00600 – 00799, 00900 – 00999: state = PR (Puerto Rico)\n",
    "for i in range(len(missing_state)):\n",
    "    if ((df_filled.loc[missing_state[i], 'Merch zip'] >= 600) & (df_filled.loc[missing_state[i], 'Merch zip']<=799)):\n",
    "        df_filled.loc[missing_state[i], 'Merch state'] = 'PR'\n",
    "    elif ((df_filled.loc[missing_state[i], 'Merch zip'] >= 900) & (df_filled.loc[missing_state[i], 'Merch zip']<=999)):\n",
    "        df_filled.loc[missing_state[i], 'Merch state'] = 'PR'\n",
    "    else:\n",
    "        pass"
   ]
  },
  {
   "cell_type": "code",
   "execution_count": 18,
   "id": "quantitative-component",
   "metadata": {},
   "outputs": [
    {
     "data": {
      "text/plain": [
       "960"
      ]
     },
     "execution_count": 18,
     "metadata": {},
     "output_type": "execute_result"
    }
   ],
   "source": [
    "missing_state = np.where(pd.isnull(df_filled['Merch state']))[0]\n",
    "len(missing_state)"
   ]
  },
  {
   "cell_type": "code",
   "execution_count": 19,
   "id": "proprietary-lawrence",
   "metadata": {},
   "outputs": [
    {
     "name": "stdout",
     "output_type": "stream",
     "text": [
      "Merch description\n",
      "#9 SOFTWARE                 VA\n",
      "(ISC)2 CERTIFICATION        MA\n",
      "0000000000000000000000      WA\n",
      "033007 KINKO'S              NC\n",
      "05032 FLYING J              NM\n",
      "                            ..\n",
      "ZYMARK CORPORATION          MA\n",
      "ZYMAX ENVIROTECHNOLOGY      CA\n",
      "ZYMED LABORATORIES          CA\n",
      "ZZYZX WORKSTATIONS          CA\n",
      "ZZYZX WRKSTNS PERIPHERAL    CA\n",
      "Name: Merch state, Length: 12844, dtype: object\n"
     ]
    }
   ],
   "source": [
    "# Use the mode of the Merchnum or Merch description\n",
    "temp = df_filled[pd.isnull(df_filled['Merch state'])== False]\n",
    "mode_merchdes = temp.groupby('Merch description')['Merch state'].apply(statistics.mode)\n",
    "print(mode_merchdes)"
   ]
  },
  {
   "cell_type": "code",
   "execution_count": 20,
   "id": "canadian-india",
   "metadata": {},
   "outputs": [],
   "source": [
    "for index in mode_merchdes.index:\n",
    "    df_filled.loc[(pd.isnull(df_filled['Merch state'])==True)&(df_filled['Merch description']==index), 'Merch state']= mode_merchdes[index]"
   ]
  },
  {
   "cell_type": "code",
   "execution_count": 21,
   "id": "flexible-broadcasting",
   "metadata": {},
   "outputs": [
    {
     "data": {
      "text/plain": [
       "296"
      ]
     },
     "execution_count": 21,
     "metadata": {},
     "output_type": "execute_result"
    }
   ],
   "source": [
    "missing_state = np.where(pd.isnull(df_filled['Merch state']))[0]\n",
    "len(missing_state)"
   ]
  },
  {
   "cell_type": "code",
   "execution_count": 22,
   "id": "positive-jersey",
   "metadata": {},
   "outputs": [],
   "source": [
    "# Fill in with “Unk” for unknown\n",
    "for i in range(len(missing_state)):\n",
    "    if np.isnan(df_filled.loc[missing_state[i], 'Merch state']):\n",
    "        df_filled.loc[missing_state[i], 'Merch state'] = 'Unk'\n",
    "    else:\n",
    "        pass"
   ]
  },
  {
   "cell_type": "code",
   "execution_count": 23,
   "id": "appreciated-arthritis",
   "metadata": {},
   "outputs": [
    {
     "data": {
      "text/plain": [
       "0"
      ]
     },
     "execution_count": 23,
     "metadata": {},
     "output_type": "execute_result"
    }
   ],
   "source": [
    "missing_state = np.where(pd.isnull(df_filled['Merch state']))[0]\n",
    "len(missing_state)"
   ]
  },
  {
   "cell_type": "markdown",
   "id": "arabic-immune",
   "metadata": {},
   "source": [
    "# Fill Merchnum"
   ]
  },
  {
   "cell_type": "code",
   "execution_count": 24,
   "id": "north-stress",
   "metadata": {},
   "outputs": [],
   "source": [
    "# If = 0, replace with NaN\n",
    "df_filled['Merchnum'] = df_filled['Merchnum'].replace(0, 'NaN')"
   ]
  },
  {
   "cell_type": "code",
   "execution_count": 25,
   "id": "timely-congress",
   "metadata": {},
   "outputs": [
    {
     "data": {
      "text/plain": [
       "3251"
      ]
     },
     "execution_count": 25,
     "metadata": {},
     "output_type": "execute_result"
    }
   ],
   "source": [
    "missing_num = np.where(pd.isnull(df_filled['Merchnum']))[0]\n",
    "len(missing_num)"
   ]
  },
  {
   "cell_type": "code",
   "execution_count": 26,
   "id": "governing-precipitation",
   "metadata": {},
   "outputs": [
    {
     "name": "stdout",
     "output_type": "stream",
     "text": [
      "Merch description\n",
      "#9 SOFTWARE                 6000330882278\n",
      "(ISC)2 CERTIFICATION            590065510\n",
      "0000000000000000000000      8168600400097\n",
      "033007 KINKO'S                35068136338\n",
      "05032 FLYING J              121075089FL96\n",
      "                                ...      \n",
      "ZYMARK CORPORATION           988906278331\n",
      "ZYMAX ENVIROTECHNOLOGY      9612006916900\n",
      "ZYMED LABORATORIES           679966068337\n",
      "ZZYZX WORKSTATIONS          6163608306809\n",
      "ZZYZX WRKSTNS PERIPHERAL    6163608306809\n",
      "Name: Merchnum, Length: 12456, dtype: object\n"
     ]
    }
   ],
   "source": [
    "# Fill in with mode of Merch description\n",
    "temp = df_filled[pd.isnull(df_filled['Merchnum'])== False]\n",
    "mode_merchnum = temp.groupby('Merch description')['Merchnum'].apply(statistics.mode)\n",
    "print(mode_merchnum)"
   ]
  },
  {
   "cell_type": "code",
   "execution_count": 27,
   "id": "stupid-aquatic",
   "metadata": {},
   "outputs": [],
   "source": [
    "for index in mode_merchnum.index:\n",
    "    df_filled.loc[(pd.isnull(df_filled['Merchnum'])==True)&(df_filled['Merch description']==index), 'Merchnum']= mode_merchnum[index]"
   ]
  },
  {
   "cell_type": "code",
   "execution_count": 28,
   "id": "labeled-remark",
   "metadata": {},
   "outputs": [
    {
     "data": {
      "text/plain": [
       "2094"
      ]
     },
     "execution_count": 28,
     "metadata": {},
     "output_type": "execute_result"
    }
   ],
   "source": [
    "missing_num = np.where(pd.isnull(df_filled['Merchnum']))[0]\n",
    "len(missing_num)"
   ]
  },
  {
   "cell_type": "code",
   "execution_count": 30,
   "id": "genetic-report",
   "metadata": {},
   "outputs": [],
   "source": [
    "# Fill in with unknown\n",
    "for i in range(len(missing_num)):\n",
    "    if np.isnan(df_filled.loc[missing_num[i], 'Merchnum']):\n",
    "        df_filled.loc[missing_num[i], 'Merchnum'] = 'Unk'\n",
    "    else:\n",
    "        pass"
   ]
  },
  {
   "cell_type": "code",
   "execution_count": 31,
   "id": "waiting-musical",
   "metadata": {},
   "outputs": [
    {
     "data": {
      "text/plain": [
       "0"
      ]
     },
     "execution_count": 31,
     "metadata": {},
     "output_type": "execute_result"
    }
   ],
   "source": [
    "missing_num = np.where(pd.isnull(df_filled['Merchnum']))[0]\n",
    "len(missing_num)"
   ]
  },
  {
   "cell_type": "markdown",
   "id": "numerical-happiness",
   "metadata": {},
   "source": [
    "# Fill Merch zip"
   ]
  },
  {
   "cell_type": "code",
   "execution_count": 32,
   "id": "korean-harvey",
   "metadata": {},
   "outputs": [
    {
     "data": {
      "text/plain": [
       "4300"
      ]
     },
     "execution_count": 32,
     "metadata": {},
     "output_type": "execute_result"
    }
   ],
   "source": [
    "missing_zip = np.where(pd.isnull(df_filled['Merch zip']))[0]\n",
    "len(missing_zip)"
   ]
  },
  {
   "cell_type": "code",
   "execution_count": 33,
   "id": "settled-seven",
   "metadata": {},
   "outputs": [
    {
     "name": "stdout",
     "output_type": "stream",
     "text": [
      "Merchnum\n",
      "003100006NOT6    41011.0\n",
      "004740006ABC6    82520.0\n",
      "005590006PNB6    80439.0\n",
      "014430619  14    90502.0\n",
      "014938913  51    84116.0\n",
      "                  ...   \n",
      "DU49038320006    19547.0\n",
      "JCPENNE9 CO      48108.0\n",
      "PENNE9 CO #05    43623.0\n",
      "PENNE9 CO #68    40422.0\n",
      "Unk              21045.0\n",
      "Name: Merch zip, Length: 12834, dtype: float64\n"
     ]
    }
   ],
   "source": [
    "# Fill in with with mode of merchant number\n",
    "temp = df_filled[pd.isnull(df_filled['Merch zip'])== False]\n",
    "mode_merchzip = temp.groupby('Merchnum')['Merch zip'].apply(statistics.mode)\n",
    "print(mode_merchzip)"
   ]
  },
  {
   "cell_type": "code",
   "execution_count": 34,
   "id": "hawaiian-litigation",
   "metadata": {},
   "outputs": [],
   "source": [
    "for index in mode_merchzip.index:\n",
    "    df_filled.loc[(pd.isnull(df_filled['Merch zip'])==True)&(df_filled['Merchnum']==index), 'Merch zip']= mode_merchzip[index]"
   ]
  },
  {
   "cell_type": "code",
   "execution_count": 35,
   "id": "retained-indication",
   "metadata": {},
   "outputs": [
    {
     "data": {
      "text/plain": [
       "1101"
      ]
     },
     "execution_count": 35,
     "metadata": {},
     "output_type": "execute_result"
    }
   ],
   "source": [
    "missing_zip = np.where(pd.isnull(df_filled['Merch zip']))[0]\n",
    "len(missing_zip)"
   ]
  },
  {
   "cell_type": "code",
   "execution_count": 36,
   "id": "impressed-support",
   "metadata": {},
   "outputs": [],
   "source": [
    "# Fill in with unknown\n",
    "for i in range(len(missing_zip)):\n",
    "    if np.isnan(df_filled.loc[missing_zip[i], 'Merch zip']):\n",
    "        df_filled.loc[missing_zip[i], 'Merch zip'] = 'Unk'\n",
    "    else:\n",
    "        pass"
   ]
  },
  {
   "cell_type": "code",
   "execution_count": 37,
   "id": "comfortable-packing",
   "metadata": {},
   "outputs": [
    {
     "data": {
      "text/plain": [
       "0"
      ]
     },
     "execution_count": 37,
     "metadata": {},
     "output_type": "execute_result"
    }
   ],
   "source": [
    "missing_zip = np.where(pd.isnull(df_filled['Merch zip']))[0]\n",
    "len(missing_zip)"
   ]
  },
  {
   "cell_type": "code",
   "execution_count": 38,
   "id": "twenty-flooring",
   "metadata": {},
   "outputs": [
    {
     "data": {
      "text/plain": [
       "index                0\n",
       "Recnum               0\n",
       "Cardnum              0\n",
       "Date                 0\n",
       "Merchnum             0\n",
       "Merch description    0\n",
       "Merch state          0\n",
       "Merch zip            0\n",
       "Transtype            0\n",
       "Amount               0\n",
       "Fraud                0\n",
       "dtype: int64"
      ]
     },
     "execution_count": 38,
     "metadata": {},
     "output_type": "execute_result"
    }
   ],
   "source": [
    "df_filled.isna().sum()"
   ]
  },
  {
   "cell_type": "code",
   "execution_count": 39,
   "id": "abroad-diamond",
   "metadata": {},
   "outputs": [],
   "source": [
    "df_filled.to_csv(\"df_filled.csv\")"
   ]
  },
  {
   "cell_type": "code",
   "execution_count": null,
   "id": "fatty-window",
   "metadata": {},
   "outputs": [],
   "source": []
  },
  {
   "cell_type": "code",
   "execution_count": null,
   "id": "diagnostic-tissue",
   "metadata": {},
   "outputs": [],
   "source": []
  }
 ],
 "metadata": {
  "kernelspec": {
   "display_name": "Python 3",
   "language": "python",
   "name": "python3"
  },
  "language_info": {
   "codemirror_mode": {
    "name": "ipython",
    "version": 3
   },
   "file_extension": ".py",
   "mimetype": "text/x-python",
   "name": "python",
   "nbconvert_exporter": "python",
   "pygments_lexer": "ipython3",
   "version": "3.8.5"
  }
 },
 "nbformat": 4,
 "nbformat_minor": 5
}
