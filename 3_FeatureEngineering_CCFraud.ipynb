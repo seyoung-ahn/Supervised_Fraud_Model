{
 "cells": [
  {
   "cell_type": "code",
   "execution_count": 1,
   "id": "looking-power",
   "metadata": {},
   "outputs": [
    {
     "name": "stderr",
     "output_type": "stream",
     "text": [
      "<ipython-input-1-c5a8c5df4780>:10: FutureWarning: The pandas.datetime class is deprecated and will be removed from pandas in a future version. Import from datetime module instead.\n",
      "  start_time = pd.datetime.now()\n"
     ]
    }
   ],
   "source": [
    "import pandas as pd\n",
    "import numpy as np\n",
    "np.set_printoptions(suppress=True)\n",
    "import scipy.stats as sps\n",
    "import matplotlib.pyplot as plt\n",
    "import seaborn as sns\n",
    "import datetime as dt\n",
    "from math import log10\n",
    "%matplotlib inline\n",
    "start_time = pd.datetime.now()\n",
    "import copy\n",
    "import datetime\n",
    "from sklearn.model_selection import train_test_split\n",
    "from sklearn.preprocessing import StandardScaler\n",
    "from scipy import stats\n",
    "from sklearn.feature_selection import RFECV\n",
    "from sklearn.linear_model import LogisticRegression\n",
    "from sklearn.ensemble import RandomForestClassifier\n",
    "from sklearn.metrics import confusion_matrix, classification_report\n",
    "from sklearn.model_selection import GridSearchCV,RandomizedSearchCV\n",
    "from sklearn import metrics"
   ]
  },
  {
   "cell_type": "code",
   "execution_count": 2,
   "id": "domestic-mobility",
   "metadata": {},
   "outputs": [],
   "source": [
    "data = pd.read_csv('card transactions.csv', usecols = ['Recnum', 'Cardnum', 'Date', 'Merchnum', 'Merch description', 'Merch state',\n",
    "                                                        'Merch zip', 'Transtype', 'Amount', 'Fraud'])"
   ]
  },
  {
   "cell_type": "code",
   "execution_count": 3,
   "id": "worthy-jewelry",
   "metadata": {},
   "outputs": [],
   "source": [
    "data['Date'] = pd.to_datetime(data['Date'])"
   ]
  },
  {
   "cell_type": "code",
   "execution_count": 4,
   "id": "labeled-country",
   "metadata": {},
   "outputs": [
    {
     "data": {
      "text/plain": [
       "Recnum                        int64\n",
       "Cardnum                       int64\n",
       "Date                 datetime64[ns]\n",
       "Merchnum                     object\n",
       "Merch description            object\n",
       "Merch state                  object\n",
       "Merch zip                   float64\n",
       "Transtype                    object\n",
       "Amount                      float64\n",
       "Fraud                         int64\n",
       "dtype: object"
      ]
     },
     "execution_count": 4,
     "metadata": {},
     "output_type": "execute_result"
    }
   ],
   "source": [
    "data.dtypes"
   ]
  },
  {
   "cell_type": "code",
   "execution_count": 5,
   "id": "encouraging-bride",
   "metadata": {},
   "outputs": [],
   "source": [
    "data['Cardnum']=data['Cardnum'].astype('str')\n",
    "data['Merchnum']=np.where((data['Merchnum']=='NaN') | (data['Merchnum']=='0'),np.nan,data['Merchnum'])\n",
    "data['Merch zip']=data['Merch zip'].fillna(0).apply(lambda x:int(x))\n",
    "data['Merch zip']=data['Merch zip'].apply(lambda x:str(x))\n",
    "data['Merch zip']=np.where(data['Merch zip']=='0',np.nan,data['Merch zip'])\n",
    "data=data.loc[data['Transtype']=='P',]\n",
    "data = data.loc[data['Amount']<100000,]\n",
    "data['Merch state'].fillna('Unknown',inplace=True)\n",
    "data['Merch zip'].fillna('Unknown',inplace=True)\n",
    "data['Merchnum'].fillna('Unknown',inplace=True)"
   ]
  },
  {
   "cell_type": "code",
   "execution_count": 6,
   "id": "ready-azerbaijan",
   "metadata": {},
   "outputs": [],
   "source": [
    "merchdes_merchnum = {}\n",
    "for index, merchdes in data[data['Merch description'].notnull()]['Merch description'].items():\n",
    "    if merchdes not in merchdes_merchnum :\n",
    "        merchdes_merchnum[merchdes] = data.loc[index, 'Merchnum']\n",
    "# fill in by mapping with Merch description\n",
    "data['Merchnum'] = data['Merchnum'].fillna(data['Merch description'].map(merchdes_merchnum))\n",
    "\n",
    "# assign unknown for adjustments transactions\n",
    "data['Merchnum'] = data['Merchnum'].mask(data['Merch description'] == 'RETAIL CREDIT ADJUSTMENT', 'unknown')\n",
    "data['Merchnum'] = data['Merchnum'].mask(data['Merch description'] == 'RETAIL DEBIT ADJUSTMENT', 'unknown')"
   ]
  },
  {
   "cell_type": "code",
   "execution_count": 7,
   "id": "registered-projector",
   "metadata": {},
   "outputs": [],
   "source": [
    "zip_state = {}\n",
    "for index, zip5 in data[data['Merch zip'].notnull()]['Merch zip'].items():\n",
    "    if zip5 not in zip_state:\n",
    "        zip_state[zip5] = data.loc[index, 'Merch state']\n",
    "        \n",
    "zip_state['00926'] = 'PR'\n",
    "zip_state['00929'] = 'PR'\n",
    "zip_state['00934'] = 'PR'\n",
    "zip_state['00902'] = 'PR'\n",
    "zip_state['00738'] = 'PR'\n",
    "zip_state['90805'] = 'CA'\n",
    "zip_state['76302'] = 'TX'\n",
    "zip_state['00914'] = 'PR'\n",
    "zip_state['95461'] = 'CA'\n",
    "zip_state['00680'] = 'PR'\n",
    "zip_state['00623'] = 'PR'\n",
    "zip_state['00726'] = 'PR'\n",
    "zip_state['00936'] = 'PR'\n",
    "zip_state['12108'] = 'NY'\n",
    "zip_state['00791'] = 'PR'\n",
    "zip_state['00907'] = 'PR'\n",
    "zip_state['00922'] = 'PR'\n",
    "zip_state['00920'] = 'PR'\n",
    "zip_state['00801'] = 'VI'\n",
    "zip_state['31040'] = 'GA'\n",
    "zip_state['41160'] = 'KY'\n",
    "zip_state['00681'] = 'PR'\n",
    "\n",
    "merchnum_state = {}\n",
    "for index, merchnum in data[data['Merchnum'].notnull()]['Merchnum'].items():\n",
    "    if merchnum not in merchnum_state:\n",
    "        merchnum_state[merchnum] = data.loc[index, 'Merch state']\n",
    "        \n",
    "merchdes_state = {}\n",
    "for index, merchdes in data[data['Merch description'].notnull()]['Merch description'].items():\n",
    "    if merchdes not in merchdes_state:\n",
    "        merchdes_state[merchdes] = data.loc[index, 'Merch state']"
   ]
  },
  {
   "cell_type": "code",
   "execution_count": 8,
   "id": "normal-workstation",
   "metadata": {},
   "outputs": [],
   "source": [
    "# fill in by mapping with zip, merchnum and merch description\n",
    "data['Merch state'] = data['Merch state'].fillna(data['Merch zip'].map(zip_state))\n",
    "data['Merch state'] = data['Merch state'].fillna(data['Merchnum'].map(merchnum_state))\n",
    "data['Merch state'] = data['Merch state'].fillna(data['Merch description'].map(merchdes_state))\n",
    "\n",
    "# assign unknown for adjustments transactions\n",
    "data['Merch state'] = data['Merch state'].mask(data['Merch description'] == 'RETAIL CREDIT ADJUSTMENT', 'unknown')\n",
    "data['Merch state'] = data['Merch state'].mask(data['Merch description'] == 'RETAIL DEBIT ADJUSTMENT', 'unknown')"
   ]
  },
  {
   "cell_type": "code",
   "execution_count": 9,
   "id": "alien-thickness",
   "metadata": {},
   "outputs": [],
   "source": [
    "merchnum_zip = {}\n",
    "for index, merchnum in data[data['Merchnum'].notnull()]['Merchnum'].items():\n",
    "    if merchnum not in merchnum_zip :\n",
    "        merchnum_zip [merchnum] = data.loc[index, 'Merch zip']\n",
    "\n",
    "merchdes_zip = {}\n",
    "for index, merchdes in data[data['Merch description'].notnull()]['Merch description'].items():\n",
    "    if merchdes not in merchdes_zip :\n",
    "        merchdes_zip [merchdes] = data.loc[index, 'Merch zip']"
   ]
  },
  {
   "cell_type": "code",
   "execution_count": 10,
   "id": "viral-digit",
   "metadata": {},
   "outputs": [
    {
     "name": "stdout",
     "output_type": "stream",
     "text": [
      "<class 'pandas.core.frame.DataFrame'>\n",
      "Int64Index: 96397 entries, 0 to 96752\n",
      "Data columns (total 10 columns):\n",
      " #   Column             Non-Null Count  Dtype         \n",
      "---  ------             --------------  -----         \n",
      " 0   Recnum             96397 non-null  int64         \n",
      " 1   Cardnum            96397 non-null  object        \n",
      " 2   Date               96397 non-null  datetime64[ns]\n",
      " 3   Merchnum           96397 non-null  object        \n",
      " 4   Merch description  96397 non-null  object        \n",
      " 5   Merch state        96397 non-null  object        \n",
      " 6   Merch zip          96397 non-null  object        \n",
      " 7   Transtype          96397 non-null  object        \n",
      " 8   Amount             96397 non-null  float64       \n",
      " 9   Fraud              96397 non-null  int64         \n",
      "dtypes: datetime64[ns](1), float64(1), int64(2), object(6)\n",
      "memory usage: 10.1+ MB\n"
     ]
    }
   ],
   "source": [
    "# fill in by mapping with merchnum and merch description\n",
    "data['Merch zip'] = data['Merch zip'].fillna(data['Merchnum'].map(merchnum_zip))\n",
    "data['Merch zip'] = data['Merch zip'].fillna(data['Merch description'].map(merchdes_zip))\n",
    "\n",
    "# assign unknown for adjustments transactions\n",
    "data['Merch zip'] = data['Merch zip'].mask(data['Merch zip'] == 'RETAIL CREDIT ADJUSTMENT', 'unknown')\n",
    "data['Merch zip'] = data['Merch zip'].mask(data['Merch zip'] == 'RETAIL DEBIT ADJUSTMENT', 'unknown')\n",
    "\n",
    "# fill the rest with unknown\n",
    "data = data.fillna('unknown')\n",
    "data.info()"
   ]
  },
  {
   "cell_type": "code",
   "execution_count": 11,
   "id": "desperate-crash",
   "metadata": {},
   "outputs": [],
   "source": [
    "data.to_csv(\"card_no_na.csv\")"
   ]
  },
  {
   "cell_type": "code",
   "execution_count": 12,
   "id": "included-environment",
   "metadata": {},
   "outputs": [],
   "source": [
    "df1=pd.read_csv('card_no_na.csv',index_col=0)"
   ]
  },
  {
   "cell_type": "code",
   "execution_count": 13,
   "id": "small-retro",
   "metadata": {},
   "outputs": [],
   "source": [
    "df1.Date=pd.to_datetime(df1.Date)\n",
    "df1['check_record']=df1['Recnum']\n",
    "df1['check_date']=df1['Date']"
   ]
  },
  {
   "cell_type": "code",
   "execution_count": 14,
   "id": "occupied-windows",
   "metadata": {},
   "outputs": [
    {
     "data": {
      "text/plain": [
       "(96397, 12)"
      ]
     },
     "execution_count": 14,
     "metadata": {},
     "output_type": "execute_result"
    }
   ],
   "source": [
    "df1.shape"
   ]
  },
  {
   "cell_type": "code",
   "execution_count": 15,
   "id": "sacred-miami",
   "metadata": {},
   "outputs": [],
   "source": [
    "#create entities:\n",
    "## card at this merchant\n",
    "df1['card_merch']=df1['Cardnum'].map(str)+df1['Merchnum'].map(str)\n",
    "## card in this zip code\n",
    "df1['card_zip']=df1['Cardnum'].map(str)+df1['Merch zip'].map(str)\n",
    "## card in this state\n",
    "df1['card_state']=df1['Cardnum'].map(str)+df1['Merch state'].map(str)\n",
    "## merchant in this zip code\n",
    "df1['merch_zip']=df1['Merchnum'].map(str)+df1['Merch zip'].map(str)\n",
    "## merchant in this state\n",
    "df1['merch_state']=df1['Merchnum'].map(str)+df1['Merch state'].map(str)\n",
    "## card for this description\n",
    "df1['card_desc']=df1['Cardnum'].map(str)+df1['Merch description'].map(str)\n",
    "## merchant for this description\n",
    "df1['merch_desc']=df1['Merchnum'].map(str)+df1['Merch description'].map(str)"
   ]
  },
  {
   "cell_type": "code",
   "execution_count": 16,
   "id": "infinite-crystal",
   "metadata": {},
   "outputs": [],
   "source": [
    "entities=['Cardnum', 'Merchnum','card_merch', 'card_zip', 'card_state','merch_zip', 'merch_state', 'card_desc', 'merch_desc']"
   ]
  },
  {
   "cell_type": "code",
   "execution_count": 17,
   "id": "bottom-queensland",
   "metadata": {},
   "outputs": [
    {
     "data": {
      "text/plain": [
       "Index(['Recnum', 'Cardnum', 'Date', 'Merchnum', 'Merch description',\n",
       "       'Merch state', 'Merch zip', 'Transtype', 'Amount', 'Fraud',\n",
       "       'check_record', 'check_date', 'card_merch', 'card_zip', 'card_state',\n",
       "       'merch_zip', 'merch_state', 'card_desc', 'merch_desc'],\n",
       "      dtype='object')"
      ]
     },
     "execution_count": 17,
     "metadata": {},
     "output_type": "execute_result"
    }
   ],
   "source": [
    "df1.columns"
   ]
  },
  {
   "cell_type": "code",
   "execution_count": 18,
   "id": "religious-cleaner",
   "metadata": {},
   "outputs": [
    {
     "data": {
      "text/plain": [
       "(96397, 19)"
      ]
     },
     "execution_count": 18,
     "metadata": {},
     "output_type": "execute_result"
    }
   ],
   "source": [
    "df1.shape"
   ]
  },
  {
   "cell_type": "code",
   "execution_count": 19,
   "id": "alleged-reach",
   "metadata": {},
   "outputs": [],
   "source": [
    "df2=copy.copy(df1)"
   ]
  },
  {
   "cell_type": "code",
   "execution_count": 20,
   "id": "ethical-unknown",
   "metadata": {},
   "outputs": [
    {
     "data": {
      "text/plain": [
       "Index(['Recnum', 'Cardnum', 'Date', 'Merchnum', 'Merch description',\n",
       "       'Merch state', 'Merch zip', 'Transtype', 'Amount', 'Fraud',\n",
       "       'check_record', 'check_date', 'card_merch', 'card_zip', 'card_state',\n",
       "       'merch_zip', 'merch_state', 'card_desc', 'merch_desc'],\n",
       "      dtype='object')"
      ]
     },
     "execution_count": 20,
     "metadata": {},
     "output_type": "execute_result"
    }
   ],
   "source": [
    "df2.columns"
   ]
  },
  {
   "cell_type": "code",
   "execution_count": 21,
   "id": "toxic-young",
   "metadata": {},
   "outputs": [],
   "source": [
    "# Days-since Variables\n",
    "\n",
    "for entity in entities:\n",
    "    df_l = df1[['Recnum', 'Date', entity]]\n",
    "    df_r = df1[['check_record', 'check_date', entity, 'Amount']]   \n",
    "    temp = pd.merge(df_l, df_r, left_on = entity, right_on = entity)\n",
    "    # Day-since variables\n",
    "    temp1 = temp[temp.Recnum > temp.check_record][['Recnum','Date','check_date']]\\\n",
    "                                                   .groupby('Recnum')[['Date', 'check_date']].last()\n",
    "    mapper = (temp1.Date - temp1.check_date).dt.days\n",
    "    df2[entity + '_day_since'] = df2.Recnum.map(mapper)\n",
    "    df2[entity + '_day_since'].fillna((df2.Date - pd.to_datetime('2010-01-01')).dt.days, inplace = True)"
   ]
  },
  {
   "cell_type": "code",
   "execution_count": 22,
   "id": "innocent-participant",
   "metadata": {},
   "outputs": [
    {
     "data": {
      "text/plain": [
       "(96397, 28)"
      ]
     },
     "execution_count": 22,
     "metadata": {},
     "output_type": "execute_result"
    }
   ],
   "source": [
    "df2.shape"
   ]
  },
  {
   "cell_type": "code",
   "execution_count": 24,
   "id": "purple-suicide",
   "metadata": {},
   "outputs": [
    {
     "name": "stdout",
     "output_type": "stream",
     "text": [
      "Cardnum_count_0 ---> Done\n",
      "Cardnum amount variables over past 0 ---> Done\n",
      "Cardnum_count_1 ---> Done\n",
      "Cardnum amount variables over past 1 ---> Done\n",
      "Cardnum_count_3 ---> Done\n",
      "Cardnum amount variables over past 3 ---> Done\n",
      "Cardnum_count_7 ---> Done\n",
      "Cardnum amount variables over past 7 ---> Done\n",
      "Cardnum_count_14 ---> Done\n",
      "Cardnum amount variables over past 14 ---> Done\n",
      "Cardnum_count_30 ---> Done\n",
      "Cardnum amount variables over past 30 ---> Done\n",
      "Merchnum_count_0 ---> Done\n",
      "Merchnum amount variables over past 0 ---> Done\n",
      "Merchnum_count_1 ---> Done\n",
      "Merchnum amount variables over past 1 ---> Done\n",
      "Merchnum_count_3 ---> Done\n",
      "Merchnum amount variables over past 3 ---> Done\n",
      "Merchnum_count_7 ---> Done\n",
      "Merchnum amount variables over past 7 ---> Done\n",
      "Merchnum_count_14 ---> Done\n",
      "Merchnum amount variables over past 14 ---> Done\n",
      "Merchnum_count_30 ---> Done\n",
      "Merchnum amount variables over past 30 ---> Done\n",
      "card_merch_count_0 ---> Done\n",
      "card_merch amount variables over past 0 ---> Done\n",
      "card_merch_count_1 ---> Done\n",
      "card_merch amount variables over past 1 ---> Done\n",
      "card_merch_count_3 ---> Done\n",
      "card_merch amount variables over past 3 ---> Done\n",
      "card_merch_count_7 ---> Done\n",
      "card_merch amount variables over past 7 ---> Done\n",
      "card_merch_count_14 ---> Done\n",
      "card_merch amount variables over past 14 ---> Done\n",
      "card_merch_count_30 ---> Done\n",
      "card_merch amount variables over past 30 ---> Done\n",
      "card_zip_count_0 ---> Done\n",
      "card_zip amount variables over past 0 ---> Done\n",
      "card_zip_count_1 ---> Done\n",
      "card_zip amount variables over past 1 ---> Done\n",
      "card_zip_count_3 ---> Done\n",
      "card_zip amount variables over past 3 ---> Done\n",
      "card_zip_count_7 ---> Done\n",
      "card_zip amount variables over past 7 ---> Done\n",
      "card_zip_count_14 ---> Done\n",
      "card_zip amount variables over past 14 ---> Done\n",
      "card_zip_count_30 ---> Done\n",
      "card_zip amount variables over past 30 ---> Done\n",
      "card_state_count_0 ---> Done\n",
      "card_state amount variables over past 0 ---> Done\n",
      "card_state_count_1 ---> Done\n",
      "card_state amount variables over past 1 ---> Done\n",
      "card_state_count_3 ---> Done\n",
      "card_state amount variables over past 3 ---> Done\n",
      "card_state_count_7 ---> Done\n",
      "card_state amount variables over past 7 ---> Done\n",
      "card_state_count_14 ---> Done\n",
      "card_state amount variables over past 14 ---> Done\n",
      "card_state_count_30 ---> Done\n",
      "card_state amount variables over past 30 ---> Done\n",
      "merch_zip_count_0 ---> Done\n",
      "merch_zip amount variables over past 0 ---> Done\n",
      "merch_zip_count_1 ---> Done\n",
      "merch_zip amount variables over past 1 ---> Done\n",
      "merch_zip_count_3 ---> Done\n",
      "merch_zip amount variables over past 3 ---> Done\n",
      "merch_zip_count_7 ---> Done\n",
      "merch_zip amount variables over past 7 ---> Done\n",
      "merch_zip_count_14 ---> Done\n",
      "merch_zip amount variables over past 14 ---> Done\n",
      "merch_zip_count_30 ---> Done\n",
      "merch_zip amount variables over past 30 ---> Done\n",
      "merch_state_count_0 ---> Done\n",
      "merch_state amount variables over past 0 ---> Done\n",
      "merch_state_count_1 ---> Done\n",
      "merch_state amount variables over past 1 ---> Done\n",
      "merch_state_count_3 ---> Done\n",
      "merch_state amount variables over past 3 ---> Done\n",
      "merch_state_count_7 ---> Done\n",
      "merch_state amount variables over past 7 ---> Done\n",
      "merch_state_count_14 ---> Done\n",
      "merch_state amount variables over past 14 ---> Done\n",
      "merch_state_count_30 ---> Done\n",
      "merch_state amount variables over past 30 ---> Done\n",
      "card_desc_count_0 ---> Done\n",
      "card_desc amount variables over past 0 ---> Done\n",
      "card_desc_count_1 ---> Done\n",
      "card_desc amount variables over past 1 ---> Done\n",
      "card_desc_count_3 ---> Done\n",
      "card_desc amount variables over past 3 ---> Done\n",
      "card_desc_count_7 ---> Done\n",
      "card_desc amount variables over past 7 ---> Done\n",
      "card_desc_count_14 ---> Done\n",
      "card_desc amount variables over past 14 ---> Done\n",
      "card_desc_count_30 ---> Done\n",
      "card_desc amount variables over past 30 ---> Done\n",
      "merch_desc_count_0 ---> Done\n",
      "merch_desc amount variables over past 0 ---> Done\n",
      "merch_desc_count_1 ---> Done\n",
      "merch_desc amount variables over past 1 ---> Done\n",
      "merch_desc_count_3 ---> Done\n",
      "merch_desc amount variables over past 3 ---> Done\n",
      "merch_desc_count_7 ---> Done\n",
      "merch_desc amount variables over past 7 ---> Done\n",
      "merch_desc_count_14 ---> Done\n",
      "merch_desc amount variables over past 14 ---> Done\n",
      "merch_desc_count_30 ---> Done\n",
      "merch_desc amount variables over past 30 ---> Done\n"
     ]
    }
   ],
   "source": [
    "# Frequency Variables\n",
    "time_range=[0,1,3,7,14,30]\n",
    "for entity in entities:\n",
    "    df_l = df1[['Recnum', 'Date', entity]]\n",
    "    df_r = df1[['check_record', 'check_date', entity, 'Amount']]   \n",
    "    temp = pd.merge(df_l, df_r, left_on = entity, right_on = entity)\n",
    "    for time in time_range:\n",
    "        temp2 = temp[(temp.check_date >= (temp.Date - dt.timedelta(time))) &\\\n",
    "                       (temp.Recnum >= temp.check_record)][['Recnum', entity, 'Amount']]       \n",
    "        col_name = entity + '_count_' + str(time)    \n",
    "        mapper2 = temp2.groupby('Recnum')[entity].count()      \n",
    "        df2[col_name] = df2.Recnum.map(mapper2)        \n",
    "        print(col_name + ' ---> Done')       \n",
    "        df2[entity + '_avg_' + str(time)] = df2.Recnum.map(temp2.groupby('Recnum')['Amount'].mean())\n",
    "        df2[entity + '_max_' + str(time)] = df2.Recnum.map(temp2.groupby('Recnum')['Amount'].max())\n",
    "        df2[entity + '_med_' + str(time)] = df2.Recnum.map(temp2.groupby('Recnum')['Amount'].median())\n",
    "        df2[entity + '_total_' + str(time)] = df2.Recnum.map(temp2.groupby('Recnum')['Amount'].sum())\n",
    "        df2[entity + '_actual/avg_' + str(time)] = df2['Amount'] / df2[entity + '_avg_' + str(time)]\n",
    "        df2[entity + '_actual/max_' + str(time)] = df2['Amount'] / df2[entity + '_max_' + str(time)]\n",
    "        df2[entity + '_actual/med_' + str(time)] = df2['Amount'] / df2[entity + '_med_' + str(time)]\n",
    "        df2[entity + '_actual/toal_' + str(time)] = df2['Amount'] / df2[entity + '_total_' + str(time)]       \n",
    "        print(entity + ' amount variables over past ' + str(time) + ' ---> Done')"
   ]
  },
  {
   "cell_type": "code",
   "execution_count": 25,
   "id": "infectious-official",
   "metadata": {},
   "outputs": [
    {
     "data": {
      "text/plain": [
       "(96397, 514)"
      ]
     },
     "execution_count": 25,
     "metadata": {},
     "output_type": "execute_result"
    }
   ],
   "source": [
    "df2.shape"
   ]
  },
  {
   "cell_type": "code",
   "execution_count": 26,
   "id": "atomic-regular",
   "metadata": {},
   "outputs": [
    {
     "data": {
      "text/plain": [
       "Index(['Recnum', 'Cardnum', 'Date', 'Merchnum', 'Merch description',\n",
       "       'Merch state', 'Merch zip', 'Transtype', 'Amount', 'Fraud',\n",
       "       ...\n",
       "       'merch_desc_actual/toal_14', 'merch_desc_count_30', 'merch_desc_avg_30',\n",
       "       'merch_desc_max_30', 'merch_desc_med_30', 'merch_desc_total_30',\n",
       "       'merch_desc_actual/avg_30', 'merch_desc_actual/max_30',\n",
       "       'merch_desc_actual/med_30', 'merch_desc_actual/toal_30'],\n",
       "      dtype='object', length=514)"
      ]
     },
     "execution_count": 26,
     "metadata": {},
     "output_type": "execute_result"
    }
   ],
   "source": [
    "df2.columns"
   ]
  },
  {
   "cell_type": "code",
   "execution_count": 27,
   "id": "mounted-softball",
   "metadata": {},
   "outputs": [],
   "source": [
    "# Velocity Variables\n",
    "for ent in entities:\n",
    "    for d in ['0', '1']:\n",
    "        for dd in ['7', '14', '30']:\n",
    "            df2[ent + '_count_' + d + '_by_' + dd] =\\\n",
    "            df2[ent + '_count_' + d]/(df2[ent + '_count_' + dd])/float(dd)"
   ]
  },
  {
   "cell_type": "code",
   "execution_count": 28,
   "id": "supposed-organizer",
   "metadata": {},
   "outputs": [
    {
     "data": {
      "text/plain": [
       "(96397, 568)"
      ]
     },
     "execution_count": 28,
     "metadata": {},
     "output_type": "execute_result"
    }
   ],
   "source": [
    "df2.shape"
   ]
  },
  {
   "cell_type": "code",
   "execution_count": 29,
   "id": "southeast-russell",
   "metadata": {},
   "outputs": [],
   "source": [
    "df2.to_csv('df2.csv')"
   ]
  },
  {
   "cell_type": "code",
   "execution_count": 30,
   "id": "photographic-relief",
   "metadata": {},
   "outputs": [],
   "source": [
    "table = df2.iloc[:,19:568]"
   ]
  },
  {
   "cell_type": "code",
   "execution_count": 31,
   "id": "frozen-struggle",
   "metadata": {},
   "outputs": [
    {
     "data": {
      "text/html": [
       "<div>\n",
       "<style scoped>\n",
       "    .dataframe tbody tr th:only-of-type {\n",
       "        vertical-align: middle;\n",
       "    }\n",
       "\n",
       "    .dataframe tbody tr th {\n",
       "        vertical-align: top;\n",
       "    }\n",
       "\n",
       "    .dataframe thead th {\n",
       "        text-align: right;\n",
       "    }\n",
       "</style>\n",
       "<table border=\"1\" class=\"dataframe\">\n",
       "  <thead>\n",
       "    <tr style=\"text-align: right;\">\n",
       "      <th></th>\n",
       "      <th>Cardnum_day_since</th>\n",
       "      <th>Merchnum_day_since</th>\n",
       "      <th>card_merch_day_since</th>\n",
       "      <th>card_zip_day_since</th>\n",
       "      <th>card_state_day_since</th>\n",
       "      <th>merch_zip_day_since</th>\n",
       "      <th>merch_state_day_since</th>\n",
       "      <th>card_desc_day_since</th>\n",
       "      <th>merch_desc_day_since</th>\n",
       "      <th>Cardnum_count_0</th>\n",
       "      <th>...</th>\n",
       "      <th>card_desc_count_0_by_30</th>\n",
       "      <th>card_desc_count_1_by_7</th>\n",
       "      <th>card_desc_count_1_by_14</th>\n",
       "      <th>card_desc_count_1_by_30</th>\n",
       "      <th>merch_desc_count_0_by_7</th>\n",
       "      <th>merch_desc_count_0_by_14</th>\n",
       "      <th>merch_desc_count_0_by_30</th>\n",
       "      <th>merch_desc_count_1_by_7</th>\n",
       "      <th>merch_desc_count_1_by_14</th>\n",
       "      <th>merch_desc_count_1_by_30</th>\n",
       "    </tr>\n",
       "  </thead>\n",
       "  <tbody>\n",
       "    <tr>\n",
       "      <th>0</th>\n",
       "      <td>1.0</td>\n",
       "      <td>1.0</td>\n",
       "      <td>1.0</td>\n",
       "      <td>1.0</td>\n",
       "      <td>1.0</td>\n",
       "      <td>1.0</td>\n",
       "      <td>1.0</td>\n",
       "      <td>1.0</td>\n",
       "      <td>1.0</td>\n",
       "      <td>1</td>\n",
       "      <td>...</td>\n",
       "      <td>0.033333</td>\n",
       "      <td>0.142857</td>\n",
       "      <td>0.071429</td>\n",
       "      <td>0.033333</td>\n",
       "      <td>0.142857</td>\n",
       "      <td>0.071429</td>\n",
       "      <td>0.033333</td>\n",
       "      <td>0.142857</td>\n",
       "      <td>0.071429</td>\n",
       "      <td>0.033333</td>\n",
       "    </tr>\n",
       "    <tr>\n",
       "      <th>1</th>\n",
       "      <td>1.0</td>\n",
       "      <td>1.0</td>\n",
       "      <td>1.0</td>\n",
       "      <td>1.0</td>\n",
       "      <td>1.0</td>\n",
       "      <td>1.0</td>\n",
       "      <td>1.0</td>\n",
       "      <td>1.0</td>\n",
       "      <td>1.0</td>\n",
       "      <td>1</td>\n",
       "      <td>...</td>\n",
       "      <td>0.033333</td>\n",
       "      <td>0.142857</td>\n",
       "      <td>0.071429</td>\n",
       "      <td>0.033333</td>\n",
       "      <td>0.142857</td>\n",
       "      <td>0.071429</td>\n",
       "      <td>0.033333</td>\n",
       "      <td>0.142857</td>\n",
       "      <td>0.071429</td>\n",
       "      <td>0.033333</td>\n",
       "    </tr>\n",
       "    <tr>\n",
       "      <th>2</th>\n",
       "      <td>1.0</td>\n",
       "      <td>1.0</td>\n",
       "      <td>1.0</td>\n",
       "      <td>1.0</td>\n",
       "      <td>1.0</td>\n",
       "      <td>1.0</td>\n",
       "      <td>1.0</td>\n",
       "      <td>1.0</td>\n",
       "      <td>1.0</td>\n",
       "      <td>1</td>\n",
       "      <td>...</td>\n",
       "      <td>0.033333</td>\n",
       "      <td>0.142857</td>\n",
       "      <td>0.071429</td>\n",
       "      <td>0.033333</td>\n",
       "      <td>0.142857</td>\n",
       "      <td>0.071429</td>\n",
       "      <td>0.033333</td>\n",
       "      <td>0.142857</td>\n",
       "      <td>0.071429</td>\n",
       "      <td>0.033333</td>\n",
       "    </tr>\n",
       "    <tr>\n",
       "      <th>3</th>\n",
       "      <td>1.0</td>\n",
       "      <td>0.0</td>\n",
       "      <td>1.0</td>\n",
       "      <td>1.0</td>\n",
       "      <td>1.0</td>\n",
       "      <td>0.0</td>\n",
       "      <td>0.0</td>\n",
       "      <td>1.0</td>\n",
       "      <td>1.0</td>\n",
       "      <td>1</td>\n",
       "      <td>...</td>\n",
       "      <td>0.033333</td>\n",
       "      <td>0.142857</td>\n",
       "      <td>0.071429</td>\n",
       "      <td>0.033333</td>\n",
       "      <td>0.142857</td>\n",
       "      <td>0.071429</td>\n",
       "      <td>0.033333</td>\n",
       "      <td>0.142857</td>\n",
       "      <td>0.071429</td>\n",
       "      <td>0.033333</td>\n",
       "    </tr>\n",
       "    <tr>\n",
       "      <th>4</th>\n",
       "      <td>0.0</td>\n",
       "      <td>0.0</td>\n",
       "      <td>0.0</td>\n",
       "      <td>0.0</td>\n",
       "      <td>0.0</td>\n",
       "      <td>0.0</td>\n",
       "      <td>0.0</td>\n",
       "      <td>0.0</td>\n",
       "      <td>0.0</td>\n",
       "      <td>2</td>\n",
       "      <td>...</td>\n",
       "      <td>0.033333</td>\n",
       "      <td>0.142857</td>\n",
       "      <td>0.071429</td>\n",
       "      <td>0.033333</td>\n",
       "      <td>0.142857</td>\n",
       "      <td>0.071429</td>\n",
       "      <td>0.033333</td>\n",
       "      <td>0.142857</td>\n",
       "      <td>0.071429</td>\n",
       "      <td>0.033333</td>\n",
       "    </tr>\n",
       "    <tr>\n",
       "      <th>...</th>\n",
       "      <td>...</td>\n",
       "      <td>...</td>\n",
       "      <td>...</td>\n",
       "      <td>...</td>\n",
       "      <td>...</td>\n",
       "      <td>...</td>\n",
       "      <td>...</td>\n",
       "      <td>...</td>\n",
       "      <td>...</td>\n",
       "      <td>...</td>\n",
       "      <td>...</td>\n",
       "      <td>...</td>\n",
       "      <td>...</td>\n",
       "      <td>...</td>\n",
       "      <td>...</td>\n",
       "      <td>...</td>\n",
       "      <td>...</td>\n",
       "      <td>...</td>\n",
       "      <td>...</td>\n",
       "      <td>...</td>\n",
       "      <td>...</td>\n",
       "    </tr>\n",
       "    <tr>\n",
       "      <th>96748</th>\n",
       "      <td>37.0</td>\n",
       "      <td>365.0</td>\n",
       "      <td>365.0</td>\n",
       "      <td>37.0</td>\n",
       "      <td>37.0</td>\n",
       "      <td>365.0</td>\n",
       "      <td>365.0</td>\n",
       "      <td>365.0</td>\n",
       "      <td>365.0</td>\n",
       "      <td>1</td>\n",
       "      <td>...</td>\n",
       "      <td>0.033333</td>\n",
       "      <td>0.142857</td>\n",
       "      <td>0.071429</td>\n",
       "      <td>0.033333</td>\n",
       "      <td>0.142857</td>\n",
       "      <td>0.071429</td>\n",
       "      <td>0.033333</td>\n",
       "      <td>0.142857</td>\n",
       "      <td>0.071429</td>\n",
       "      <td>0.033333</td>\n",
       "    </tr>\n",
       "    <tr>\n",
       "      <th>96749</th>\n",
       "      <td>0.0</td>\n",
       "      <td>9.0</td>\n",
       "      <td>11.0</td>\n",
       "      <td>11.0</td>\n",
       "      <td>2.0</td>\n",
       "      <td>9.0</td>\n",
       "      <td>9.0</td>\n",
       "      <td>11.0</td>\n",
       "      <td>9.0</td>\n",
       "      <td>2</td>\n",
       "      <td>...</td>\n",
       "      <td>0.016667</td>\n",
       "      <td>0.142857</td>\n",
       "      <td>0.035714</td>\n",
       "      <td>0.016667</td>\n",
       "      <td>0.142857</td>\n",
       "      <td>0.014286</td>\n",
       "      <td>0.004762</td>\n",
       "      <td>0.142857</td>\n",
       "      <td>0.014286</td>\n",
       "      <td>0.004762</td>\n",
       "    </tr>\n",
       "    <tr>\n",
       "      <th>96750</th>\n",
       "      <td>1.0</td>\n",
       "      <td>0.0</td>\n",
       "      <td>365.0</td>\n",
       "      <td>365.0</td>\n",
       "      <td>1.0</td>\n",
       "      <td>0.0</td>\n",
       "      <td>0.0</td>\n",
       "      <td>365.0</td>\n",
       "      <td>0.0</td>\n",
       "      <td>1</td>\n",
       "      <td>...</td>\n",
       "      <td>0.033333</td>\n",
       "      <td>0.142857</td>\n",
       "      <td>0.071429</td>\n",
       "      <td>0.033333</td>\n",
       "      <td>0.095238</td>\n",
       "      <td>0.040816</td>\n",
       "      <td>0.006667</td>\n",
       "      <td>0.095238</td>\n",
       "      <td>0.040816</td>\n",
       "      <td>0.006667</td>\n",
       "    </tr>\n",
       "    <tr>\n",
       "      <th>96751</th>\n",
       "      <td>9.0</td>\n",
       "      <td>1.0</td>\n",
       "      <td>26.0</td>\n",
       "      <td>26.0</td>\n",
       "      <td>26.0</td>\n",
       "      <td>1.0</td>\n",
       "      <td>1.0</td>\n",
       "      <td>26.0</td>\n",
       "      <td>1.0</td>\n",
       "      <td>1</td>\n",
       "      <td>...</td>\n",
       "      <td>0.011111</td>\n",
       "      <td>0.142857</td>\n",
       "      <td>0.071429</td>\n",
       "      <td>0.011111</td>\n",
       "      <td>0.023810</td>\n",
       "      <td>0.005495</td>\n",
       "      <td>0.000725</td>\n",
       "      <td>0.095238</td>\n",
       "      <td>0.021978</td>\n",
       "      <td>0.002899</td>\n",
       "    </tr>\n",
       "    <tr>\n",
       "      <th>96752</th>\n",
       "      <td>2.0</td>\n",
       "      <td>2.0</td>\n",
       "      <td>2.0</td>\n",
       "      <td>2.0</td>\n",
       "      <td>2.0</td>\n",
       "      <td>2.0</td>\n",
       "      <td>2.0</td>\n",
       "      <td>2.0</td>\n",
       "      <td>2.0</td>\n",
       "      <td>1</td>\n",
       "      <td>...</td>\n",
       "      <td>0.008333</td>\n",
       "      <td>0.035714</td>\n",
       "      <td>0.017857</td>\n",
       "      <td>0.008333</td>\n",
       "      <td>0.047619</td>\n",
       "      <td>0.011905</td>\n",
       "      <td>0.002564</td>\n",
       "      <td>0.047619</td>\n",
       "      <td>0.011905</td>\n",
       "      <td>0.002564</td>\n",
       "    </tr>\n",
       "  </tbody>\n",
       "</table>\n",
       "<p>96397 rows × 549 columns</p>\n",
       "</div>"
      ],
      "text/plain": [
       "       Cardnum_day_since  Merchnum_day_since  card_merch_day_since  \\\n",
       "0                    1.0                 1.0                   1.0   \n",
       "1                    1.0                 1.0                   1.0   \n",
       "2                    1.0                 1.0                   1.0   \n",
       "3                    1.0                 0.0                   1.0   \n",
       "4                    0.0                 0.0                   0.0   \n",
       "...                  ...                 ...                   ...   \n",
       "96748               37.0               365.0                 365.0   \n",
       "96749                0.0                 9.0                  11.0   \n",
       "96750                1.0                 0.0                 365.0   \n",
       "96751                9.0                 1.0                  26.0   \n",
       "96752                2.0                 2.0                   2.0   \n",
       "\n",
       "       card_zip_day_since  card_state_day_since  merch_zip_day_since  \\\n",
       "0                     1.0                   1.0                  1.0   \n",
       "1                     1.0                   1.0                  1.0   \n",
       "2                     1.0                   1.0                  1.0   \n",
       "3                     1.0                   1.0                  0.0   \n",
       "4                     0.0                   0.0                  0.0   \n",
       "...                   ...                   ...                  ...   \n",
       "96748                37.0                  37.0                365.0   \n",
       "96749                11.0                   2.0                  9.0   \n",
       "96750               365.0                   1.0                  0.0   \n",
       "96751                26.0                  26.0                  1.0   \n",
       "96752                 2.0                   2.0                  2.0   \n",
       "\n",
       "       merch_state_day_since  card_desc_day_since  merch_desc_day_since  \\\n",
       "0                        1.0                  1.0                   1.0   \n",
       "1                        1.0                  1.0                   1.0   \n",
       "2                        1.0                  1.0                   1.0   \n",
       "3                        0.0                  1.0                   1.0   \n",
       "4                        0.0                  0.0                   0.0   \n",
       "...                      ...                  ...                   ...   \n",
       "96748                  365.0                365.0                 365.0   \n",
       "96749                    9.0                 11.0                   9.0   \n",
       "96750                    0.0                365.0                   0.0   \n",
       "96751                    1.0                 26.0                   1.0   \n",
       "96752                    2.0                  2.0                   2.0   \n",
       "\n",
       "       Cardnum_count_0  ...  card_desc_count_0_by_30  card_desc_count_1_by_7  \\\n",
       "0                    1  ...                 0.033333                0.142857   \n",
       "1                    1  ...                 0.033333                0.142857   \n",
       "2                    1  ...                 0.033333                0.142857   \n",
       "3                    1  ...                 0.033333                0.142857   \n",
       "4                    2  ...                 0.033333                0.142857   \n",
       "...                ...  ...                      ...                     ...   \n",
       "96748                1  ...                 0.033333                0.142857   \n",
       "96749                2  ...                 0.016667                0.142857   \n",
       "96750                1  ...                 0.033333                0.142857   \n",
       "96751                1  ...                 0.011111                0.142857   \n",
       "96752                1  ...                 0.008333                0.035714   \n",
       "\n",
       "       card_desc_count_1_by_14  card_desc_count_1_by_30  \\\n",
       "0                     0.071429                 0.033333   \n",
       "1                     0.071429                 0.033333   \n",
       "2                     0.071429                 0.033333   \n",
       "3                     0.071429                 0.033333   \n",
       "4                     0.071429                 0.033333   \n",
       "...                        ...                      ...   \n",
       "96748                 0.071429                 0.033333   \n",
       "96749                 0.035714                 0.016667   \n",
       "96750                 0.071429                 0.033333   \n",
       "96751                 0.071429                 0.011111   \n",
       "96752                 0.017857                 0.008333   \n",
       "\n",
       "       merch_desc_count_0_by_7  merch_desc_count_0_by_14  \\\n",
       "0                     0.142857                  0.071429   \n",
       "1                     0.142857                  0.071429   \n",
       "2                     0.142857                  0.071429   \n",
       "3                     0.142857                  0.071429   \n",
       "4                     0.142857                  0.071429   \n",
       "...                        ...                       ...   \n",
       "96748                 0.142857                  0.071429   \n",
       "96749                 0.142857                  0.014286   \n",
       "96750                 0.095238                  0.040816   \n",
       "96751                 0.023810                  0.005495   \n",
       "96752                 0.047619                  0.011905   \n",
       "\n",
       "       merch_desc_count_0_by_30  merch_desc_count_1_by_7  \\\n",
       "0                      0.033333                 0.142857   \n",
       "1                      0.033333                 0.142857   \n",
       "2                      0.033333                 0.142857   \n",
       "3                      0.033333                 0.142857   \n",
       "4                      0.033333                 0.142857   \n",
       "...                         ...                      ...   \n",
       "96748                  0.033333                 0.142857   \n",
       "96749                  0.004762                 0.142857   \n",
       "96750                  0.006667                 0.095238   \n",
       "96751                  0.000725                 0.095238   \n",
       "96752                  0.002564                 0.047619   \n",
       "\n",
       "       merch_desc_count_1_by_14  merch_desc_count_1_by_30  \n",
       "0                      0.071429                  0.033333  \n",
       "1                      0.071429                  0.033333  \n",
       "2                      0.071429                  0.033333  \n",
       "3                      0.071429                  0.033333  \n",
       "4                      0.071429                  0.033333  \n",
       "...                         ...                       ...  \n",
       "96748                  0.071429                  0.033333  \n",
       "96749                  0.014286                  0.004762  \n",
       "96750                  0.040816                  0.006667  \n",
       "96751                  0.021978                  0.002899  \n",
       "96752                  0.011905                  0.002564  \n",
       "\n",
       "[96397 rows x 549 columns]"
      ]
     },
     "execution_count": 31,
     "metadata": {},
     "output_type": "execute_result"
    }
   ],
   "source": [
    "table"
   ]
  },
  {
   "cell_type": "code",
   "execution_count": 32,
   "id": "outdoor-beaver",
   "metadata": {},
   "outputs": [],
   "source": [
    "t = table.describe().transpose()"
   ]
  },
  {
   "cell_type": "code",
   "execution_count": 33,
   "id": "norwegian-oxford",
   "metadata": {},
   "outputs": [
    {
     "data": {
      "text/html": [
       "<div>\n",
       "<style scoped>\n",
       "    .dataframe tbody tr th:only-of-type {\n",
       "        vertical-align: middle;\n",
       "    }\n",
       "\n",
       "    .dataframe tbody tr th {\n",
       "        vertical-align: top;\n",
       "    }\n",
       "\n",
       "    .dataframe thead th {\n",
       "        text-align: right;\n",
       "    }\n",
       "</style>\n",
       "<table border=\"1\" class=\"dataframe\">\n",
       "  <thead>\n",
       "    <tr style=\"text-align: right;\">\n",
       "      <th></th>\n",
       "      <th>count</th>\n",
       "      <th>mean</th>\n",
       "      <th>std</th>\n",
       "      <th>min</th>\n",
       "      <th>25%</th>\n",
       "      <th>50%</th>\n",
       "      <th>75%</th>\n",
       "      <th>max</th>\n",
       "    </tr>\n",
       "  </thead>\n",
       "  <tbody>\n",
       "    <tr>\n",
       "      <th>Cardnum_day_since</th>\n",
       "      <td>96397.0</td>\n",
       "      <td>5.436902</td>\n",
       "      <td>17.235291</td>\n",
       "      <td>0.000000</td>\n",
       "      <td>0.000000</td>\n",
       "      <td>1.000000</td>\n",
       "      <td>5.000000</td>\n",
       "      <td>357.000000</td>\n",
       "    </tr>\n",
       "    <tr>\n",
       "      <th>Merchnum_day_since</th>\n",
       "      <td>96397.0</td>\n",
       "      <td>29.878378</td>\n",
       "      <td>66.350151</td>\n",
       "      <td>0.000000</td>\n",
       "      <td>0.000000</td>\n",
       "      <td>2.000000</td>\n",
       "      <td>18.000000</td>\n",
       "      <td>365.000000</td>\n",
       "    </tr>\n",
       "    <tr>\n",
       "      <th>card_merch_day_since</th>\n",
       "      <td>96397.0</td>\n",
       "      <td>81.229001</td>\n",
       "      <td>99.630527</td>\n",
       "      <td>0.000000</td>\n",
       "      <td>3.000000</td>\n",
       "      <td>32.000000</td>\n",
       "      <td>136.000000</td>\n",
       "      <td>365.000000</td>\n",
       "    </tr>\n",
       "    <tr>\n",
       "      <th>card_zip_day_since</th>\n",
       "      <td>96397.0</td>\n",
       "      <td>70.823096</td>\n",
       "      <td>93.163306</td>\n",
       "      <td>0.000000</td>\n",
       "      <td>2.000000</td>\n",
       "      <td>24.000000</td>\n",
       "      <td>110.000000</td>\n",
       "      <td>365.000000</td>\n",
       "    </tr>\n",
       "    <tr>\n",
       "      <th>card_state_day_since</th>\n",
       "      <td>96397.0</td>\n",
       "      <td>38.469237</td>\n",
       "      <td>67.630924</td>\n",
       "      <td>0.000000</td>\n",
       "      <td>1.000000</td>\n",
       "      <td>8.000000</td>\n",
       "      <td>40.000000</td>\n",
       "      <td>365.000000</td>\n",
       "    </tr>\n",
       "    <tr>\n",
       "      <th>...</th>\n",
       "      <td>...</td>\n",
       "      <td>...</td>\n",
       "      <td>...</td>\n",
       "      <td>...</td>\n",
       "      <td>...</td>\n",
       "      <td>...</td>\n",
       "      <td>...</td>\n",
       "      <td>...</td>\n",
       "    </tr>\n",
       "    <tr>\n",
       "      <th>merch_desc_count_0_by_14</th>\n",
       "      <td>96397.0</td>\n",
       "      <td>0.039778</td>\n",
       "      <td>0.027847</td>\n",
       "      <td>0.000364</td>\n",
       "      <td>0.011905</td>\n",
       "      <td>0.035714</td>\n",
       "      <td>0.071429</td>\n",
       "      <td>0.071429</td>\n",
       "    </tr>\n",
       "    <tr>\n",
       "      <th>merch_desc_count_0_by_30</th>\n",
       "      <td>96397.0</td>\n",
       "      <td>0.015685</td>\n",
       "      <td>0.013191</td>\n",
       "      <td>0.000121</td>\n",
       "      <td>0.003175</td>\n",
       "      <td>0.011111</td>\n",
       "      <td>0.033333</td>\n",
       "      <td>0.033333</td>\n",
       "    </tr>\n",
       "    <tr>\n",
       "      <th>merch_desc_count_1_by_7</th>\n",
       "      <td>96397.0</td>\n",
       "      <td>0.101756</td>\n",
       "      <td>0.047182</td>\n",
       "      <td>0.001043</td>\n",
       "      <td>0.057143</td>\n",
       "      <td>0.142857</td>\n",
       "      <td>0.142857</td>\n",
       "      <td>0.142857</td>\n",
       "    </tr>\n",
       "    <tr>\n",
       "      <th>merch_desc_count_1_by_14</th>\n",
       "      <td>96397.0</td>\n",
       "      <td>0.043395</td>\n",
       "      <td>0.026410</td>\n",
       "      <td>0.000364</td>\n",
       "      <td>0.017857</td>\n",
       "      <td>0.035714</td>\n",
       "      <td>0.071429</td>\n",
       "      <td>0.071429</td>\n",
       "    </tr>\n",
       "    <tr>\n",
       "      <th>merch_desc_count_1_by_30</th>\n",
       "      <td>96397.0</td>\n",
       "      <td>0.016954</td>\n",
       "      <td>0.012975</td>\n",
       "      <td>0.000121</td>\n",
       "      <td>0.004444</td>\n",
       "      <td>0.013333</td>\n",
       "      <td>0.033333</td>\n",
       "      <td>0.033333</td>\n",
       "    </tr>\n",
       "  </tbody>\n",
       "</table>\n",
       "<p>549 rows × 8 columns</p>\n",
       "</div>"
      ],
      "text/plain": [
       "                            count       mean        std       min       25%  \\\n",
       "Cardnum_day_since         96397.0   5.436902  17.235291  0.000000  0.000000   \n",
       "Merchnum_day_since        96397.0  29.878378  66.350151  0.000000  0.000000   \n",
       "card_merch_day_since      96397.0  81.229001  99.630527  0.000000  3.000000   \n",
       "card_zip_day_since        96397.0  70.823096  93.163306  0.000000  2.000000   \n",
       "card_state_day_since      96397.0  38.469237  67.630924  0.000000  1.000000   \n",
       "...                           ...        ...        ...       ...       ...   \n",
       "merch_desc_count_0_by_14  96397.0   0.039778   0.027847  0.000364  0.011905   \n",
       "merch_desc_count_0_by_30  96397.0   0.015685   0.013191  0.000121  0.003175   \n",
       "merch_desc_count_1_by_7   96397.0   0.101756   0.047182  0.001043  0.057143   \n",
       "merch_desc_count_1_by_14  96397.0   0.043395   0.026410  0.000364  0.017857   \n",
       "merch_desc_count_1_by_30  96397.0   0.016954   0.012975  0.000121  0.004444   \n",
       "\n",
       "                                50%         75%         max  \n",
       "Cardnum_day_since          1.000000    5.000000  357.000000  \n",
       "Merchnum_day_since         2.000000   18.000000  365.000000  \n",
       "card_merch_day_since      32.000000  136.000000  365.000000  \n",
       "card_zip_day_since        24.000000  110.000000  365.000000  \n",
       "card_state_day_since       8.000000   40.000000  365.000000  \n",
       "...                             ...         ...         ...  \n",
       "merch_desc_count_0_by_14   0.035714    0.071429    0.071429  \n",
       "merch_desc_count_0_by_30   0.011111    0.033333    0.033333  \n",
       "merch_desc_count_1_by_7    0.142857    0.142857    0.142857  \n",
       "merch_desc_count_1_by_14   0.035714    0.071429    0.071429  \n",
       "merch_desc_count_1_by_30   0.013333    0.033333    0.033333  \n",
       "\n",
       "[549 rows x 8 columns]"
      ]
     },
     "execution_count": 33,
     "metadata": {},
     "output_type": "execute_result"
    }
   ],
   "source": [
    "t"
   ]
  },
  {
   "cell_type": "code",
   "execution_count": 34,
   "id": "chicken-account",
   "metadata": {},
   "outputs": [],
   "source": [
    "a=set(df2.columns)\n",
    "b=set(df1.columns)-set(['Amount'])\n",
    "numeric_variables=list(a-b)\n",
    "t_1 = df2[numeric_variables]"
   ]
  },
  {
   "cell_type": "code",
   "execution_count": 35,
   "id": "female-triangle",
   "metadata": {},
   "outputs": [],
   "source": [
    "table_1 = t_1.describe().transpose()"
   ]
  },
  {
   "cell_type": "code",
   "execution_count": 36,
   "id": "advisory-watts",
   "metadata": {},
   "outputs": [],
   "source": [
    "t.to_csv('variable_table_529.csv')"
   ]
  },
  {
   "cell_type": "code",
   "execution_count": 37,
   "id": "positive-induction",
   "metadata": {},
   "outputs": [],
   "source": [
    "table_1.to_csv('variable_table_550.csv')"
   ]
  },
  {
   "cell_type": "code",
   "execution_count": 38,
   "id": "blind-empire",
   "metadata": {},
   "outputs": [
    {
     "data": {
      "text/plain": [
       "Recnum                               int64\n",
       "Cardnum                              int64\n",
       "Date                        datetime64[ns]\n",
       "Merchnum                            object\n",
       "Merch description                   object\n",
       "                                 ...      \n",
       "merch_desc_count_0_by_14           float64\n",
       "merch_desc_count_0_by_30           float64\n",
       "merch_desc_count_1_by_7            float64\n",
       "merch_desc_count_1_by_14           float64\n",
       "merch_desc_count_1_by_30           float64\n",
       "Length: 568, dtype: object"
      ]
     },
     "execution_count": 38,
     "metadata": {},
     "output_type": "execute_result"
    }
   ],
   "source": [
    "df2.dtypes"
   ]
  },
  {
   "cell_type": "code",
   "execution_count": 19,
   "id": "biological-spotlight",
   "metadata": {},
   "outputs": [],
   "source": [
    "df2=pd.read_csv(\"df2.csv\",index_col=0)"
   ]
  },
  {
   "cell_type": "code",
   "execution_count": 20,
   "id": "equivalent-drink",
   "metadata": {},
   "outputs": [],
   "source": [
    "df2.Date=pd.to_datetime(df2.Date)"
   ]
  },
  {
   "cell_type": "code",
   "execution_count": 21,
   "id": "written-accountability",
   "metadata": {},
   "outputs": [],
   "source": [
    "#df2 = df2.iloc[:,19:568]"
   ]
  },
  {
   "cell_type": "code",
   "execution_count": 22,
   "id": "active-reasoning",
   "metadata": {},
   "outputs": [],
   "source": [
    "df2=df2.drop(columns=['card_merch', 'card_zip', 'card_state','merch_zip', 'merch_state', 'card_desc', 'merch_desc'])\n",
    "a=set(df2.columns)\n",
    "b=set(df1.columns)\n",
    "numeric_variables=list(a-b)"
   ]
  },
  {
   "cell_type": "code",
   "execution_count": 23,
   "id": "turkish-shaft",
   "metadata": {},
   "outputs": [
    {
     "data": {
      "text/plain": [
       "Index(['Recnum', 'Cardnum', 'Date', 'Merchnum', 'Merch description',\n",
       "       'Merch state', 'Merch zip', 'Transtype', 'Amount', 'Fraud',\n",
       "       ...\n",
       "       'card_desc_count_0_by_30', 'card_desc_count_1_by_7',\n",
       "       'card_desc_count_1_by_14', 'card_desc_count_1_by_30',\n",
       "       'merch_desc_count_0_by_7', 'merch_desc_count_0_by_14',\n",
       "       'merch_desc_count_0_by_30', 'merch_desc_count_1_by_7',\n",
       "       'merch_desc_count_1_by_14', 'merch_desc_count_1_by_30'],\n",
       "      dtype='object', length=561)"
      ]
     },
     "execution_count": 23,
     "metadata": {},
     "output_type": "execute_result"
    }
   ],
   "source": [
    "df2.columns"
   ]
  },
  {
   "cell_type": "code",
   "execution_count": 24,
   "id": "proved-scoop",
   "metadata": {},
   "outputs": [],
   "source": [
    "df3=copy.copy(df2).reset_index(drop=True)"
   ]
  },
  {
   "cell_type": "code",
   "execution_count": 25,
   "id": "younger-software",
   "metadata": {},
   "outputs": [],
   "source": [
    "standardizer=StandardScaler()\n",
    "df3[numeric_variables]= standardizer.fit_transform(df3[numeric_variables])"
   ]
  },
  {
   "cell_type": "code",
   "execution_count": 26,
   "id": "active-brother",
   "metadata": {},
   "outputs": [],
   "source": [
    "df3['Weekday']=df3.Date.dt.weekday+1\n",
    "df3['Month']=df3.Date.dt.month\n",
    "mask = (df3['Month'] >= 1) & (df3['Month'] <= 8)\n",
    "mask2 = (df3['Month'] >= 9) & (df3['Month'] <= 12)\n",
    "traintest = df3.loc[mask]\n",
    "\n",
    "OOTvali=df3.loc[mask2] # real test data"
   ]
  },
  {
   "cell_type": "code",
   "execution_count": 27,
   "id": "latter-trace",
   "metadata": {},
   "outputs": [
    {
     "name": "stderr",
     "output_type": "stream",
     "text": [
      "<ipython-input-27-d3f4bdda0813>:7: SettingWithCopyWarning: \n",
      "A value is trying to be set on a copy of a slice from a DataFrame.\n",
      "Try using .loc[row_indexer,col_indexer] = value instead\n",
      "\n",
      "See the caveats in the documentation: https://pandas.pydata.org/pandas-docs/stable/user_guide/indexing.html#returning-a-view-versus-a-copy\n",
      "  traintest['Weekday_risk']=traintest['Weekday'].map(y_smooth)\n"
     ]
    }
   ],
   "source": [
    "c=4\n",
    "nmid=15\n",
    "y_avg=traintest['Fraud'].mean()\n",
    "y_weekday_avg=traintest.groupby('Weekday')['Fraud'].mean()\n",
    "number_instance=traintest.groupby('Weekday').size()\n",
    "y_smooth=y_avg+(y_weekday_avg-y_avg)/(1+np.exp(-(number_instance-nmid)/c))\n",
    "traintest['Weekday_risk']=traintest['Weekday'].map(y_smooth)"
   ]
  },
  {
   "cell_type": "code",
   "execution_count": 28,
   "id": "absolute-following",
   "metadata": {},
   "outputs": [
    {
     "name": "stderr",
     "output_type": "stream",
     "text": [
      "<ipython-input-28-161542157b7c>:4: SettingWithCopyWarning: \n",
      "A value is trying to be set on a copy of a slice from a DataFrame.\n",
      "Try using .loc[row_indexer,col_indexer] = value instead\n",
      "\n",
      "See the caveats in the documentation: https://pandas.pydata.org/pandas-docs/stable/user_guide/indexing.html#returning-a-view-versus-a-copy\n",
      "  traintest['state_risk']=traintest['Merch state'].map(y_state_smooth)\n"
     ]
    }
   ],
   "source": [
    "y_state_avg=traintest.groupby('Merch state')['Fraud'].mean()\n",
    "number_instance_state=traintest.groupby('Merch state').size()\n",
    "y_state_smooth=y_avg+(y_state_avg-y_avg)/(1+np.exp(-(number_instance_state-nmid)/c))\n",
    "traintest['state_risk']=traintest['Merch state'].map(y_state_smooth)"
   ]
  },
  {
   "cell_type": "code",
   "execution_count": 29,
   "id": "failing-billion",
   "metadata": {},
   "outputs": [
    {
     "name": "stderr",
     "output_type": "stream",
     "text": [
      "<ipython-input-29-593c5a038518>:2: SettingWithCopyWarning: \n",
      "A value is trying to be set on a copy of a slice from a DataFrame.\n",
      "Try using .loc[row_indexer,col_indexer] = value instead\n",
      "\n",
      "See the caveats in the documentation: https://pandas.pydata.org/pandas-docs/stable/user_guide/indexing.html#returning-a-view-versus-a-copy\n",
      "  OOTvali['state_risk']=OOTvali['Merch state'].map(mapper)\n"
     ]
    }
   ],
   "source": [
    "mapper=traintest.groupby('Merch state')['state_risk'].mean()\n",
    "OOTvali['state_risk']=OOTvali['Merch state'].map(mapper)"
   ]
  },
  {
   "cell_type": "code",
   "execution_count": 30,
   "id": "conventional-pearl",
   "metadata": {},
   "outputs": [
    {
     "name": "stderr",
     "output_type": "stream",
     "text": [
      "<ipython-input-30-e2afb0713db4>:2: SettingWithCopyWarning: \n",
      "A value is trying to be set on a copy of a slice from a DataFrame.\n",
      "Try using .loc[row_indexer,col_indexer] = value instead\n",
      "\n",
      "See the caveats in the documentation: https://pandas.pydata.org/pandas-docs/stable/user_guide/indexing.html#returning-a-view-versus-a-copy\n",
      "  OOTvali['Weekday_risk']=OOTvali['Weekday'].map(mapper2)\n"
     ]
    }
   ],
   "source": [
    "mapper2=traintest.groupby('Weekday')['Weekday_risk'].mean()\n",
    "OOTvali['Weekday_risk']=OOTvali['Weekday'].map(mapper2)"
   ]
  },
  {
   "cell_type": "code",
   "execution_count": 31,
   "id": "comic-identification",
   "metadata": {},
   "outputs": [
    {
     "data": {
      "text/plain": [
       "Text(0, 0.5, 'risk_prop')"
      ]
     },
     "execution_count": 31,
     "metadata": {},
     "output_type": "execute_result"
    },
    {
     "data": {
      "image/png": "[encoded data removed]",
      "text/plain": [
       "<Figure size 432x288 with 1 Axes>"
      ]
     },
     "metadata": {
      "needs_background": "light"
     },
     "output_type": "display_data"
    }
   ],
   "source": [
    "#two risk table variables\n",
    "\n",
    "mapper2.plot.bar(color='darkblue')\n",
    "plt.xticks(rotation=0)\n",
    "plt.ylabel(\"risk_prop\")"
   ]
  },
  {
   "cell_type": "code",
   "execution_count": 32,
   "id": "filled-profit",
   "metadata": {},
   "outputs": [
    {
     "data": {
      "text/plain": [
       "Text(0, 0.5, 'risk_prop')"
      ]
     },
     "execution_count": 32,
     "metadata": {},
     "output_type": "execute_result"
    },
    {
     "data": {
      "image/png": "[encoded data removed]",
      "text/plain": [
       "<Figure size 432x288 with 1 Axes>"
      ]
     },
     "metadata": {
      "needs_background": "light"
     },
     "output_type": "display_data"
    }
   ],
   "source": [
    "\n",
    "mapper.sort_values(ascending=False).head(10).plot.bar(color='darkblue')\n",
    "plt.xticks(rotation=0)\n",
    "plt.ylabel(\"risk_prop\")"
   ]
  },
  {
   "cell_type": "code",
   "execution_count": 33,
   "id": "several-vector",
   "metadata": {},
   "outputs": [
    {
     "name": "stdout",
     "output_type": "stream",
     "text": [
      "0.0\n",
      "0.05679862306368331\n",
      "0.01018678181090242\n",
      "0.009143733709251197\n"
     ]
    }
   ],
   "source": [
    "print(traintest['state_risk'].min())\n",
    "print(traintest['state_risk'].max())\n",
    "print(traintest['state_risk'].mean())\n",
    "print(traintest['state_risk'].std())"
   ]
  },
  {
   "cell_type": "code",
   "execution_count": 34,
   "id": "varied-azerbaijan",
   "metadata": {},
   "outputs": [
    {
     "name": "stdout",
     "output_type": "stream",
     "text": [
      "0.006651570902915369\n",
      "0.0400219298245614\n",
      "0.010181618051733628\n",
      "0.005494838703311417\n"
     ]
    }
   ],
   "source": [
    "print(traintest['Weekday_risk'].min())\n",
    "print(traintest['Weekday_risk'].max())\n",
    "print(traintest['Weekday_risk'].mean())\n",
    "print(traintest['Weekday_risk'].std())"
   ]
  },
  {
   "cell_type": "code",
   "execution_count": 35,
   "id": "committed-plaza",
   "metadata": {},
   "outputs": [],
   "source": [
    "traintest_keep=traintest.drop(columns=['Weekday','Month','Recnum', 'Cardnum', 'Merchnum', 'Merch description',\n",
    "       'Merch state', 'Merch zip', 'Transtype', 'Amount','check_record','check_date'])"
   ]
  },
  {
   "cell_type": "code",
   "execution_count": 35,
   "id": "daily-consortium",
   "metadata": {},
   "outputs": [],
   "source": [
    "traintest_keep.to_csv('traintest.csv')\n",
    "OOTvali.to_csv('ootdata.csv')"
   ]
  },
  {
   "cell_type": "code",
   "execution_count": null,
   "id": "second-click",
   "metadata": {},
   "outputs": [],
   "source": []
  }
 ],
 "metadata": {
  "kernelspec": {
   "display_name": "Python 3",
   "language": "python",
   "name": "python3"
  },
  "language_info": {
   "codemirror_mode": {
    "name": "ipython",
    "version": 3
   },
   "file_extension": ".py",
   "mimetype": "text/x-python",
   "name": "python",
   "nbconvert_exporter": "python",
   "pygments_lexer": "ipython3",
   "version": "3.8.5"
  }
 },
 "nbformat": 4,
 "nbformat_minor": 5
}
